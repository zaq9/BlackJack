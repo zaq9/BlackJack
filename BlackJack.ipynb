{
  "nbformat": 4,
  "nbformat_minor": 0,
  "metadata": {
    "colab": {
      "name": "BlackJack.ipynb",
      "version": "0.3.2",
      "provenance": [],
      "include_colab_link": true
    },
    "kernelspec": {
      "name": "python3",
      "display_name": "Python 3"
    }
  },
  "cells": [
    {
      "cell_type": "markdown",
      "metadata": {
        "id": "view-in-github",
        "colab_type": "text"
      },
      "source": [
        "<a href=\"https://colab.research.google.com/github/zaq9/BlackJack/blob/master/BlackJack.ipynb\" target=\"_parent\"><img src=\"https://colab.research.google.com/assets/colab-badge.svg\" alt=\"Open In Colab\"/></a>"
      ]
    },
    {
      "metadata": {
        "id": "oSWZYw1UKWDe",
        "colab_type": "code",
        "colab": {
          "base_uri": "https://localhost:8080/",
          "height": 334
        },
        "outputId": "16c1f890-e731-4710-b61a-2f42c14ccd61"
      },
      "cell_type": "code",
      "source": [
        "class Card:\n",
        "\tSUITS = '♤♡♢♧'\n",
        "\tRANKS = '0 A 2 3 4 5 6 7 8 9 10 J Q K'.split()\n",
        "\tdef __init__(self, suit, rank): self.suit, self.rank = suit, rank\n",
        "\tdef __repr__(self): return f'{Card.SUITS[self.suit]}{Card.RANKS[self.rank]}'\n",
        "\n",
        "import random\n",
        "class Deck(list):\n",
        "\tdef __init__(self):\n",
        "\t\tsuper().__init__([Card(suit, rank) for suit in range(4) for rank in range(1, 14)])\n",
        "\t\trandom.shuffle(self)\n",
        "\n",
        "class Hand(list):  # 手札\n",
        "\t@property\n",
        "\tdef score(self):  # ブラックジャックのスコア(Bustした場合は負の数を返す）\n",
        "\t\tsc = sum(min(10, c.rank) for c in self)\n",
        "\t\tif (sc <= 11 and 1 in [c.rank for c in self]): sc += 10\n",
        "\t\treturn sc if sc <= 21 else -sc\n",
        "\n",
        "class Player:\n",
        "\tdef __init__(self, deck):\n",
        "\t\tself.deck = deck\n",
        "\t\tself.hand = Hand()\n",
        "\t\tself.draw()\n",
        "\n",
        "\tdef __repr__(self): return (f\"{self.__class__.__name__} {self.hand} :Score={self.hand.score}\")\n",
        "\n",
        "\tdef draw(self):\n",
        "\t\tself.hand.append(self.deck.pop())\n",
        "\t\treturn self.hand.score\n",
        "\n",
        "\tdef confirm_hit(self):\n",
        "\t\tview(self)\n",
        "\t\treturn confirm('もう一枚引きますか？')\n",
        "\n",
        "\tdef deal(self):\n",
        "\t\twhile (self.draw() > 0):\n",
        "\t\t\tif (not self.confirm_hit()): return self.hand.score\n",
        "\t\tview(f\"{self.__class__.__name__} の負け！バーストしました。 {self.hand} \")\n",
        "\n",
        "class Dealer(Player):\n",
        "\tdef confirm_hit(self): return self.hand.score < 17\n",
        "\n",
        "def game():\n",
        "\tdeck = Deck()\n",
        "\tdealer, player = Dealer(deck), Player(deck)\n",
        "\tview(dealer)\n",
        "\tif (player.deal() and dealer.deal()):\n",
        "\t\tview(dealer)\n",
        "\t\tif (player.hand.score >= dealer.hand.score):\n",
        "\t\t\tview('Playerの勝ちです。おめでとうございます！')\n",
        "\t\telse:\n",
        "\t\t\tview('Dealerの勝ちです。残念！')\n",
        "\n",
        "def view(msg): print(msg)\n",
        "def confirm(msg): return input(f'{msg} [y/n]').lower() == 'y'\n",
        "\n",
        "if __name__ == '__main__':\n",
        "\tgame()\n",
        "\twhile confirm('もう一度ゲームしますか?'): game()"
      ],
      "execution_count": 7,
      "outputs": [
        {
          "output_type": "stream",
          "text": [
            "Dealer [♧4] :Score=4\n",
            "Player [♧A, ♡K] :Score=21\n",
            "もう一枚引きますか？ [y/n]n\n",
            "Dealer [♧4, ♧8, ♡4, ♢2] :Score=18\n",
            "Playerの勝ちです。おめでとうございます！\n",
            "もう一度ゲームしますか? [y/n]y\n",
            "Dealer [♧7] :Score=7\n",
            "Player [♧Q, ♤7] :Score=17\n",
            "もう一枚引きますか？ [y/n]n\n",
            "Dealer [♧7, ♤4, ♢10] :Score=21\n",
            "Dealerの勝ちです。残念！\n",
            "もう一度ゲームしますか? [y/n]y\n",
            "Dealer [♢A] :Score=11\n",
            "Player [♢9, ♢J] :Score=19\n",
            "もう一枚引きますか？ [y/n]n\n",
            "Dealer [♢A, ♤3, ♤K, ♢6] :Score=20\n",
            "Dealerの勝ちです。残念！\n",
            "もう一度ゲームしますか? [y/n]n\n"
          ],
          "name": "stdout"
        }
      ]
    }
  ]
}